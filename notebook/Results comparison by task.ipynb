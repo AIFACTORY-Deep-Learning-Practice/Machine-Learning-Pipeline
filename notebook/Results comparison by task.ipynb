{
 "cells": [
  {
   "cell_type": "code",
   "execution_count": 17,
   "metadata": {
    "ExecuteTime": {
     "end_time": "2020-10-21T20:50:03.566604Z",
     "start_time": "2020-10-21T20:50:03.561549Z"
    }
   },
   "outputs": [],
   "source": [
    "import sys\n",
    "sys.path.append('../src')\n",
    "\n",
    "import pandas as pd\n",
    "from utils import results_comparison"
   ]
  },
  {
   "cell_type": "code",
   "execution_count": 18,
   "metadata": {
    "ExecuteTime": {
     "end_time": "2020-10-21T20:50:04.054562Z",
     "start_time": "2020-10-21T20:50:04.041426Z"
    }
   },
   "outputs": [],
   "source": [
    "reg_val_df = results_comparison(task='regression', datatype='validation')\n",
    "reg_test_df = results_comparison(task='regression', datatype='test')\n",
    "\n",
    "reg_val_df = reg_val_df.rename(columns=dict((c,c+'_val') for c in reg_val_df.columns))\n",
    "reg_test_df = reg_test_df.rename(columns=dict((c,c+'_test') for c in reg_test_df.columns))"
   ]
  },
  {
   "cell_type": "code",
   "execution_count": 24,
   "metadata": {
    "ExecuteTime": {
     "end_time": "2020-10-21T20:51:49.997018Z",
     "start_time": "2020-10-21T20:51:49.986970Z"
    }
   },
   "outputs": [
    {
     "data": {
      "text/html": [
       "<div>\n",
       "<style scoped>\n",
       "    .dataframe tbody tr th:only-of-type {\n",
       "        vertical-align: middle;\n",
       "    }\n",
       "\n",
       "    .dataframe tbody tr th {\n",
       "        vertical-align: top;\n",
       "    }\n",
       "\n",
       "    .dataframe thead th {\n",
       "        text-align: right;\n",
       "    }\n",
       "</style>\n",
       "<table border=\"1\" class=\"dataframe\">\n",
       "  <thead>\n",
       "    <tr style=\"text-align: right;\">\n",
       "      <th></th>\n",
       "      <th>MSE_val</th>\n",
       "      <th>MSE_test</th>\n",
       "      <th>MAE_val</th>\n",
       "      <th>MAE_test</th>\n",
       "    </tr>\n",
       "  </thead>\n",
       "  <tbody>\n",
       "    <tr>\n",
       "      <td>version0</td>\n",
       "      <td>25.236437</td>\n",
       "      <td>25.471308</td>\n",
       "      <td>4.013553</td>\n",
       "      <td>4.021752</td>\n",
       "    </tr>\n",
       "    <tr>\n",
       "      <td>version1</td>\n",
       "      <td>25.237541</td>\n",
       "      <td>25.458619</td>\n",
       "      <td>4.013729</td>\n",
       "      <td>4.020512</td>\n",
       "    </tr>\n",
       "    <tr>\n",
       "      <td>version2</td>\n",
       "      <td>34.917513</td>\n",
       "      <td>33.529890</td>\n",
       "      <td>4.718204</td>\n",
       "      <td>4.619088</td>\n",
       "    </tr>\n",
       "    <tr>\n",
       "      <td>version3</td>\n",
       "      <td>5404.716867</td>\n",
       "      <td>5341.463386</td>\n",
       "      <td>58.576349</td>\n",
       "      <td>58.327117</td>\n",
       "    </tr>\n",
       "    <tr>\n",
       "      <td>version4</td>\n",
       "      <td>19015.487212</td>\n",
       "      <td>7400.985500</td>\n",
       "      <td>109.054540</td>\n",
       "      <td>67.606584</td>\n",
       "    </tr>\n",
       "    <tr>\n",
       "      <td>version5</td>\n",
       "      <td>6184.924338</td>\n",
       "      <td>5654.840099</td>\n",
       "      <td>60.281654</td>\n",
       "      <td>58.071699</td>\n",
       "    </tr>\n",
       "    <tr>\n",
       "      <td>version6</td>\n",
       "      <td>10918.867335</td>\n",
       "      <td>9550.765285</td>\n",
       "      <td>81.224808</td>\n",
       "      <td>75.618136</td>\n",
       "    </tr>\n",
       "    <tr>\n",
       "      <td>version7</td>\n",
       "      <td>3097.710174</td>\n",
       "      <td>2668.639160</td>\n",
       "      <td>42.580249</td>\n",
       "      <td>39.481840</td>\n",
       "    </tr>\n",
       "    <tr>\n",
       "      <td>version8</td>\n",
       "      <td>11253.667253</td>\n",
       "      <td>11153.260266</td>\n",
       "      <td>69.229195</td>\n",
       "      <td>69.142138</td>\n",
       "    </tr>\n",
       "    <tr>\n",
       "      <td>version9</td>\n",
       "      <td>5828.788058</td>\n",
       "      <td>5432.604671</td>\n",
       "      <td>58.678113</td>\n",
       "      <td>56.896379</td>\n",
       "    </tr>\n",
       "  </tbody>\n",
       "</table>\n",
       "</div>"
      ],
      "text/plain": [
       "               MSE_val      MSE_test     MAE_val   MAE_test\n",
       "version0     25.236437     25.471308    4.013553   4.021752\n",
       "version1     25.237541     25.458619    4.013729   4.020512\n",
       "version2     34.917513     33.529890    4.718204   4.619088\n",
       "version3   5404.716867   5341.463386   58.576349  58.327117\n",
       "version4  19015.487212   7400.985500  109.054540  67.606584\n",
       "version5   6184.924338   5654.840099   60.281654  58.071699\n",
       "version6  10918.867335   9550.765285   81.224808  75.618136\n",
       "version7   3097.710174   2668.639160   42.580249  39.481840\n",
       "version8  11253.667253  11153.260266   69.229195  69.142138\n",
       "version9   5828.788058   5432.604671   58.678113  56.896379"
      ]
     },
     "execution_count": 24,
     "metadata": {},
     "output_type": "execute_result"
    }
   ],
   "source": [
    "pd.concat([reg_val_df, reg_test_df], axis=1).T.sort_index(ascending=False).T"
   ]
  }
 ],
 "metadata": {
  "hide_input": false,
  "kernelspec": {
   "display_name": "Python 3",
   "language": "python",
   "name": "python3"
  },
  "language_info": {
   "codemirror_mode": {
    "name": "ipython",
    "version": 3
   },
   "file_extension": ".py",
   "mimetype": "text/x-python",
   "name": "python",
   "nbconvert_exporter": "python",
   "pygments_lexer": "ipython3",
   "version": "3.7.4"
  },
  "toc": {
   "base_numbering": 1,
   "nav_menu": {},
   "number_sections": true,
   "sideBar": true,
   "skip_h1_title": false,
   "title_cell": "Table of Contents",
   "title_sidebar": "Contents",
   "toc_cell": false,
   "toc_position": {},
   "toc_section_display": true,
   "toc_window_display": false
  },
  "varInspector": {
   "cols": {
    "lenName": 16,
    "lenType": 16,
    "lenVar": 40
   },
   "kernels_config": {
    "python": {
     "delete_cmd_postfix": "",
     "delete_cmd_prefix": "del ",
     "library": "var_list.py",
     "varRefreshCmd": "print(var_dic_list())"
    },
    "r": {
     "delete_cmd_postfix": ") ",
     "delete_cmd_prefix": "rm(",
     "library": "var_list.r",
     "varRefreshCmd": "cat(var_dic_list()) "
    }
   },
   "types_to_exclude": [
    "module",
    "function",
    "builtin_function_or_method",
    "instance",
    "_Feature"
   ],
   "window_display": false
  }
 },
 "nbformat": 4,
 "nbformat_minor": 2
}
