{
 "cells": [
  {
   "cell_type": "code",
   "execution_count": 2,
   "metadata": {
    "ExecuteTime": {
     "end_time": "2020-10-19T09:27:51.989459Z",
     "start_time": "2020-10-19T09:27:51.817394Z"
    }
   },
   "outputs": [],
   "source": [
    "import sys\n",
    "sys.path.append('../src')\n",
    "\n",
    "from utils import results_comparison"
   ]
  },
  {
   "cell_type": "code",
   "execution_count": 3,
   "metadata": {
    "ExecuteTime": {
     "end_time": "2020-10-19T09:27:52.717568Z",
     "start_time": "2020-10-19T09:27:52.701118Z"
    }
   },
   "outputs": [],
   "source": [
    "reg_df = results_comparison(task='regression')\n",
    "cls_df = results_comparison(task='classification')"
   ]
  },
  {
   "cell_type": "code",
   "execution_count": 4,
   "metadata": {
    "ExecuteTime": {
     "end_time": "2020-10-19T09:27:54.439052Z",
     "start_time": "2020-10-19T09:27:54.426773Z"
    }
   },
   "outputs": [
    {
     "data": {
      "text/html": [
       "<div>\n",
       "<style scoped>\n",
       "    .dataframe tbody tr th:only-of-type {\n",
       "        vertical-align: middle;\n",
       "    }\n",
       "\n",
       "    .dataframe tbody tr th {\n",
       "        vertical-align: top;\n",
       "    }\n",
       "\n",
       "    .dataframe thead th {\n",
       "        text-align: right;\n",
       "    }\n",
       "</style>\n",
       "<table border=\"1\" class=\"dataframe\">\n",
       "  <thead>\n",
       "    <tr style=\"text-align: right;\">\n",
       "      <th></th>\n",
       "      <th>MSE</th>\n",
       "      <th>MAE</th>\n",
       "    </tr>\n",
       "  </thead>\n",
       "  <tbody>\n",
       "    <tr>\n",
       "      <td>version0</td>\n",
       "      <td>23.678</td>\n",
       "      <td>3.851</td>\n",
       "    </tr>\n",
       "    <tr>\n",
       "      <td>version1</td>\n",
       "      <td>23.669</td>\n",
       "      <td>3.856</td>\n",
       "    </tr>\n",
       "    <tr>\n",
       "      <td>version2</td>\n",
       "      <td>30.562</td>\n",
       "      <td>4.419</td>\n",
       "    </tr>\n",
       "    <tr>\n",
       "      <td>version3</td>\n",
       "      <td>3315.136</td>\n",
       "      <td>45.595</td>\n",
       "    </tr>\n",
       "    <tr>\n",
       "      <td>version4</td>\n",
       "      <td>22017.312</td>\n",
       "      <td>113.134</td>\n",
       "    </tr>\n",
       "    <tr>\n",
       "      <td>version5</td>\n",
       "      <td>7174.408</td>\n",
       "      <td>66.523</td>\n",
       "    </tr>\n",
       "    <tr>\n",
       "      <td>version6</td>\n",
       "      <td>10173.656</td>\n",
       "      <td>77.811</td>\n",
       "    </tr>\n",
       "    <tr>\n",
       "      <td>version7</td>\n",
       "      <td>3909.356</td>\n",
       "      <td>48.931</td>\n",
       "    </tr>\n",
       "    <tr>\n",
       "      <td>version8</td>\n",
       "      <td>26155.659</td>\n",
       "      <td>126.243</td>\n",
       "    </tr>\n",
       "    <tr>\n",
       "      <td>version9</td>\n",
       "      <td>7479.587</td>\n",
       "      <td>67.644</td>\n",
       "    </tr>\n",
       "  </tbody>\n",
       "</table>\n",
       "</div>"
      ],
      "text/plain": [
       "                MSE      MAE\n",
       "version0     23.678    3.851\n",
       "version1     23.669    3.856\n",
       "version2     30.562    4.419\n",
       "version3   3315.136   45.595\n",
       "version4  22017.312  113.134\n",
       "version5   7174.408   66.523\n",
       "version6  10173.656   77.811\n",
       "version7   3909.356   48.931\n",
       "version8  26155.659  126.243\n",
       "version9   7479.587   67.644"
      ]
     },
     "execution_count": 4,
     "metadata": {},
     "output_type": "execute_result"
    }
   ],
   "source": [
    "round(reg_df,3)"
   ]
  },
  {
   "cell_type": "code",
   "execution_count": 5,
   "metadata": {
    "ExecuteTime": {
     "end_time": "2020-10-19T09:28:02.797583Z",
     "start_time": "2020-10-19T09:28:02.787625Z"
    }
   },
   "outputs": [
    {
     "data": {
      "text/html": [
       "<div>\n",
       "<style scoped>\n",
       "    .dataframe tbody tr th:only-of-type {\n",
       "        vertical-align: middle;\n",
       "    }\n",
       "\n",
       "    .dataframe tbody tr th {\n",
       "        vertical-align: top;\n",
       "    }\n",
       "\n",
       "    .dataframe thead th {\n",
       "        text-align: right;\n",
       "    }\n",
       "</style>\n",
       "<table border=\"1\" class=\"dataframe\">\n",
       "  <thead>\n",
       "    <tr style=\"text-align: right;\">\n",
       "      <th></th>\n",
       "      <th>Acc</th>\n",
       "      <th>Precision</th>\n",
       "      <th>Recall</th>\n",
       "      <th>F1 score</th>\n",
       "      <th>AUC</th>\n",
       "    </tr>\n",
       "  </thead>\n",
       "  <tbody>\n",
       "    <tr>\n",
       "      <td>version0</td>\n",
       "      <td>0.963</td>\n",
       "      <td>0.936</td>\n",
       "      <td>0.985</td>\n",
       "      <td>0.960</td>\n",
       "      <td>0.985</td>\n",
       "    </tr>\n",
       "    <tr>\n",
       "      <td>version1</td>\n",
       "      <td>0.957</td>\n",
       "      <td>0.923</td>\n",
       "      <td>0.985</td>\n",
       "      <td>0.953</td>\n",
       "      <td>0.959</td>\n",
       "    </tr>\n",
       "    <tr>\n",
       "      <td>version2</td>\n",
       "      <td>0.947</td>\n",
       "      <td>0.928</td>\n",
       "      <td>0.955</td>\n",
       "      <td>0.941</td>\n",
       "      <td>0.947</td>\n",
       "    </tr>\n",
       "    <tr>\n",
       "      <td>version3</td>\n",
       "      <td>0.963</td>\n",
       "      <td>0.949</td>\n",
       "      <td>0.970</td>\n",
       "      <td>0.959</td>\n",
       "      <td>0.982</td>\n",
       "    </tr>\n",
       "    <tr>\n",
       "      <td>version4</td>\n",
       "      <td>0.940</td>\n",
       "      <td>0.926</td>\n",
       "      <td>0.940</td>\n",
       "      <td>0.933</td>\n",
       "      <td>0.980</td>\n",
       "    </tr>\n",
       "    <tr>\n",
       "      <td>version5</td>\n",
       "      <td>0.963</td>\n",
       "      <td>0.942</td>\n",
       "      <td>0.978</td>\n",
       "      <td>0.960</td>\n",
       "      <td>0.987</td>\n",
       "    </tr>\n",
       "    <tr>\n",
       "      <td>version6</td>\n",
       "      <td>0.950</td>\n",
       "      <td>0.922</td>\n",
       "      <td>0.970</td>\n",
       "      <td>0.945</td>\n",
       "      <td>0.980</td>\n",
       "    </tr>\n",
       "    <tr>\n",
       "      <td>version7</td>\n",
       "      <td>0.923</td>\n",
       "      <td>0.872</td>\n",
       "      <td>0.970</td>\n",
       "      <td>0.919</td>\n",
       "      <td>0.972</td>\n",
       "    </tr>\n",
       "  </tbody>\n",
       "</table>\n",
       "</div>"
      ],
      "text/plain": [
       "            Acc  Precision  Recall  F1 score    AUC\n",
       "version0  0.963      0.936   0.985     0.960  0.985\n",
       "version1  0.957      0.923   0.985     0.953  0.959\n",
       "version2  0.947      0.928   0.955     0.941  0.947\n",
       "version3  0.963      0.949   0.970     0.959  0.982\n",
       "version4  0.940      0.926   0.940     0.933  0.980\n",
       "version5  0.963      0.942   0.978     0.960  0.987\n",
       "version6  0.950      0.922   0.970     0.945  0.980\n",
       "version7  0.923      0.872   0.970     0.919  0.972"
      ]
     },
     "execution_count": 5,
     "metadata": {},
     "output_type": "execute_result"
    }
   ],
   "source": [
    "round(cls_df,3)"
   ]
  }
 ],
 "metadata": {
  "hide_input": false,
  "kernelspec": {
   "display_name": "Python 3",
   "language": "python",
   "name": "python3"
  },
  "language_info": {
   "codemirror_mode": {
    "name": "ipython",
    "version": 3
   },
   "file_extension": ".py",
   "mimetype": "text/x-python",
   "name": "python",
   "nbconvert_exporter": "python",
   "pygments_lexer": "ipython3",
   "version": "3.7.4"
  },
  "toc": {
   "base_numbering": 1,
   "nav_menu": {},
   "number_sections": true,
   "sideBar": true,
   "skip_h1_title": false,
   "title_cell": "Table of Contents",
   "title_sidebar": "Contents",
   "toc_cell": false,
   "toc_position": {},
   "toc_section_display": true,
   "toc_window_display": false
  },
  "varInspector": {
   "cols": {
    "lenName": 16,
    "lenType": 16,
    "lenVar": 40
   },
   "kernels_config": {
    "python": {
     "delete_cmd_postfix": "",
     "delete_cmd_prefix": "del ",
     "library": "var_list.py",
     "varRefreshCmd": "print(var_dic_list())"
    },
    "r": {
     "delete_cmd_postfix": ") ",
     "delete_cmd_prefix": "rm(",
     "library": "var_list.r",
     "varRefreshCmd": "cat(var_dic_list()) "
    }
   },
   "types_to_exclude": [
    "module",
    "function",
    "builtin_function_or_method",
    "instance",
    "_Feature"
   ],
   "window_display": false
  }
 },
 "nbformat": 4,
 "nbformat_minor": 2
}
